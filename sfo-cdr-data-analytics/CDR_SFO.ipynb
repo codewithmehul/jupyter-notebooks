{
 "cells": [
  {
   "cell_type": "markdown",
   "metadata": {},
   "source": [
    "# CDR data analytics"
   ]
  },
  {
   "cell_type": "markdown",
   "metadata": {},
   "source": [
    "Read excel file using Python Pandas by skipping unwanted rows. The header starts with row 11."
   ]
  },
  {
   "cell_type": "code",
   "execution_count": 1,
   "metadata": {},
   "outputs": [],
   "source": [
    "import pandas as pd"
   ]
  },
  {
   "cell_type": "code",
   "execution_count": 2,
   "metadata": {},
   "outputs": [],
   "source": [
    "df1 = pd.read_excel(\"Sample CDR.xlsx\", header=11)"
   ]
  },
  {
   "cell_type": "markdown",
   "metadata": {},
   "source": [
    "Print snapshot of the dataframe."
   ]
  },
  {
   "cell_type": "code",
   "execution_count": 3,
   "metadata": {},
   "outputs": [
    {
     "data": {
      "text/html": [
       "<div>\n",
       "<style scoped>\n",
       "    .dataframe tbody tr th:only-of-type {\n",
       "        vertical-align: middle;\n",
       "    }\n",
       "\n",
       "    .dataframe tbody tr th {\n",
       "        vertical-align: top;\n",
       "    }\n",
       "\n",
       "    .dataframe thead th {\n",
       "        text-align: right;\n",
       "    }\n",
       "</style>\n",
       "<table border=\"1\" class=\"dataframe\">\n",
       "  <thead>\n",
       "    <tr style=\"text-align: right;\">\n",
       "      <th></th>\n",
       "      <th>Date</th>\n",
       "      <th>Time</th>\n",
       "      <th>Duration (S)</th>\n",
       "      <th>Call Type</th>\n",
       "      <th>Direction</th>\n",
       "      <th>Calling Number</th>\n",
       "      <th>Called Number</th>\n",
       "      <th>Completion Code</th>\n",
       "      <th>1st LTE Site ID</th>\n",
       "      <th>1st LTE Sector ID</th>\n",
       "      <th>1st LAC</th>\n",
       "      <th>1st Cell ID</th>\n",
       "      <th>1st Tower Azimuth</th>\n",
       "      <th>1st Tower LAT</th>\n",
       "      <th>1st Tower LONG</th>\n",
       "      <th>1st Tower Address</th>\n",
       "      <th>1st Tower City</th>\n",
       "      <th>1st Tower State</th>\n",
       "      <th>1st Tower Zip</th>\n",
       "    </tr>\n",
       "  </thead>\n",
       "  <tbody>\n",
       "    <tr>\n",
       "      <th>0</th>\n",
       "      <td>2021-08-27 01:03:29</td>\n",
       "      <td>2021-08-27 01:03:29</td>\n",
       "      <td>4.0</td>\n",
       "      <td>mtc</td>\n",
       "      <td>Incoming</td>\n",
       "      <td>16504838989</td>\n",
       "      <td>14159996655</td>\n",
       "      <td>Completed Successfully</td>\n",
       "      <td>45352.0</td>\n",
       "      <td>7.0</td>\n",
       "      <td>NaN</td>\n",
       "      <td>NaN</td>\n",
       "      <td>NaN</td>\n",
       "      <td>37.777286</td>\n",
       "      <td>-122.456265</td>\n",
       "      <td>3067 Turk Blvd</td>\n",
       "      <td>San Francisco</td>\n",
       "      <td>CA</td>\n",
       "      <td>94118.0</td>\n",
       "    </tr>\n",
       "    <tr>\n",
       "      <th>1</th>\n",
       "      <td>2021-08-27 01:04:02</td>\n",
       "      <td>2021-08-27 01:04:02</td>\n",
       "      <td>4.0</td>\n",
       "      <td>moc</td>\n",
       "      <td>Outgoing</td>\n",
       "      <td>16504838989</td>\n",
       "      <td>14159996655</td>\n",
       "      <td>Completed Successfully</td>\n",
       "      <td>45352.0</td>\n",
       "      <td>7.0</td>\n",
       "      <td>NaN</td>\n",
       "      <td>NaN</td>\n",
       "      <td>NaN</td>\n",
       "      <td>37.777286</td>\n",
       "      <td>-122.456265</td>\n",
       "      <td>3067 Turk Blvd</td>\n",
       "      <td>San Francisco</td>\n",
       "      <td>CA</td>\n",
       "      <td>94118.0</td>\n",
       "    </tr>\n",
       "    <tr>\n",
       "      <th>2</th>\n",
       "      <td>2021-08-27 02:43:23</td>\n",
       "      <td>2021-08-27 02:43:23</td>\n",
       "      <td>NaN</td>\n",
       "      <td>mtc</td>\n",
       "      <td>Incoming</td>\n",
       "      <td>16504838989</td>\n",
       "      <td>14153331122</td>\n",
       "      <td>Abnormal Completion</td>\n",
       "      <td>45352.0</td>\n",
       "      <td>7.0</td>\n",
       "      <td>NaN</td>\n",
       "      <td>NaN</td>\n",
       "      <td>NaN</td>\n",
       "      <td>37.777286</td>\n",
       "      <td>-122.456265</td>\n",
       "      <td>3067 Turk Blvd</td>\n",
       "      <td>San Francisco</td>\n",
       "      <td>CA</td>\n",
       "      <td>94118.0</td>\n",
       "    </tr>\n",
       "    <tr>\n",
       "      <th>3</th>\n",
       "      <td>2021-08-27 02:44:28</td>\n",
       "      <td>2021-08-27 02:44:28</td>\n",
       "      <td>NaN</td>\n",
       "      <td>SMSC</td>\n",
       "      <td>NaN</td>\n",
       "      <td>16504838989</td>\n",
       "      <td>14153331122</td>\n",
       "      <td>Completed Successfully</td>\n",
       "      <td>NaN</td>\n",
       "      <td>NaN</td>\n",
       "      <td>NaN</td>\n",
       "      <td>NaN</td>\n",
       "      <td>NaN</td>\n",
       "      <td>NaN</td>\n",
       "      <td>NaN</td>\n",
       "      <td>NaN</td>\n",
       "      <td>NaN</td>\n",
       "      <td>NaN</td>\n",
       "      <td>NaN</td>\n",
       "    </tr>\n",
       "    <tr>\n",
       "      <th>4</th>\n",
       "      <td>2021-08-27 07:37:50</td>\n",
       "      <td>2021-08-27 07:37:50</td>\n",
       "      <td>NaN</td>\n",
       "      <td>SMSC</td>\n",
       "      <td>NaN</td>\n",
       "      <td>16504838989</td>\n",
       "      <td>84399</td>\n",
       "      <td>Completed Successfully</td>\n",
       "      <td>NaN</td>\n",
       "      <td>NaN</td>\n",
       "      <td>NaN</td>\n",
       "      <td>NaN</td>\n",
       "      <td>NaN</td>\n",
       "      <td>NaN</td>\n",
       "      <td>NaN</td>\n",
       "      <td>NaN</td>\n",
       "      <td>NaN</td>\n",
       "      <td>NaN</td>\n",
       "      <td>NaN</td>\n",
       "    </tr>\n",
       "    <tr>\n",
       "      <th>5</th>\n",
       "      <td>2021-08-27 07:37:51</td>\n",
       "      <td>2021-08-27 07:37:51</td>\n",
       "      <td>NaN</td>\n",
       "      <td>SMSC</td>\n",
       "      <td>NaN</td>\n",
       "      <td>16504838989</td>\n",
       "      <td>14158887755</td>\n",
       "      <td>Completed Successfully</td>\n",
       "      <td>NaN</td>\n",
       "      <td>NaN</td>\n",
       "      <td>NaN</td>\n",
       "      <td>NaN</td>\n",
       "      <td>NaN</td>\n",
       "      <td>NaN</td>\n",
       "      <td>NaN</td>\n",
       "      <td>NaN</td>\n",
       "      <td>NaN</td>\n",
       "      <td>NaN</td>\n",
       "      <td>NaN</td>\n",
       "    </tr>\n",
       "    <tr>\n",
       "      <th>6</th>\n",
       "      <td>2021-08-27 11:29:12</td>\n",
       "      <td>2021-08-27 11:29:12</td>\n",
       "      <td>NaN</td>\n",
       "      <td>SMSC</td>\n",
       "      <td>NaN</td>\n",
       "      <td>16504838989</td>\n",
       "      <td>14158887755</td>\n",
       "      <td>Completed Successfully</td>\n",
       "      <td>NaN</td>\n",
       "      <td>NaN</td>\n",
       "      <td>NaN</td>\n",
       "      <td>NaN</td>\n",
       "      <td>NaN</td>\n",
       "      <td>NaN</td>\n",
       "      <td>NaN</td>\n",
       "      <td>NaN</td>\n",
       "      <td>NaN</td>\n",
       "      <td>NaN</td>\n",
       "      <td>NaN</td>\n",
       "    </tr>\n",
       "    <tr>\n",
       "      <th>7</th>\n",
       "      <td>2021-08-27 11:29:56</td>\n",
       "      <td>2021-08-27 11:29:56</td>\n",
       "      <td>NaN</td>\n",
       "      <td>SMSC</td>\n",
       "      <td>NaN</td>\n",
       "      <td>16504838989</td>\n",
       "      <td>14158887755</td>\n",
       "      <td>Completed Successfully</td>\n",
       "      <td>NaN</td>\n",
       "      <td>NaN</td>\n",
       "      <td>NaN</td>\n",
       "      <td>NaN</td>\n",
       "      <td>NaN</td>\n",
       "      <td>NaN</td>\n",
       "      <td>NaN</td>\n",
       "      <td>NaN</td>\n",
       "      <td>NaN</td>\n",
       "      <td>NaN</td>\n",
       "      <td>NaN</td>\n",
       "    </tr>\n",
       "    <tr>\n",
       "      <th>8</th>\n",
       "      <td>2021-08-27 11:56:23</td>\n",
       "      <td>2021-08-27 11:56:23</td>\n",
       "      <td>86.0</td>\n",
       "      <td>moc</td>\n",
       "      <td>Outgoing</td>\n",
       "      <td>16504838989</td>\n",
       "      <td>14158887755</td>\n",
       "      <td>Completed Successfully</td>\n",
       "      <td>45352.0</td>\n",
       "      <td>7.0</td>\n",
       "      <td>NaN</td>\n",
       "      <td>NaN</td>\n",
       "      <td>NaN</td>\n",
       "      <td>37.777286</td>\n",
       "      <td>-122.456265</td>\n",
       "      <td>3067 Turk Blvd</td>\n",
       "      <td>San Francisco</td>\n",
       "      <td>CA</td>\n",
       "      <td>94118.0</td>\n",
       "    </tr>\n",
       "    <tr>\n",
       "      <th>9</th>\n",
       "      <td>2021-08-27 12:21:48</td>\n",
       "      <td>2021-08-27 12:21:48</td>\n",
       "      <td>NaN</td>\n",
       "      <td>moc</td>\n",
       "      <td>Outgoing</td>\n",
       "      <td>16504838989</td>\n",
       "      <td>14158887755</td>\n",
       "      <td>Abnormal Completion</td>\n",
       "      <td>45352.0</td>\n",
       "      <td>1.0</td>\n",
       "      <td>NaN</td>\n",
       "      <td>NaN</td>\n",
       "      <td>NaN</td>\n",
       "      <td>37.756244</td>\n",
       "      <td>-122.417870</td>\n",
       "      <td>665 Capp St</td>\n",
       "      <td>San Francisco</td>\n",
       "      <td>CA</td>\n",
       "      <td>94110.0</td>\n",
       "    </tr>\n",
       "  </tbody>\n",
       "</table>\n",
       "</div>"
      ],
      "text/plain": [
       "                 Date                Time  Duration (S) Call Type Direction  \\\n",
       "0 2021-08-27 01:03:29 2021-08-27 01:03:29           4.0       mtc  Incoming   \n",
       "1 2021-08-27 01:04:02 2021-08-27 01:04:02           4.0       moc  Outgoing   \n",
       "2 2021-08-27 02:43:23 2021-08-27 02:43:23           NaN       mtc  Incoming   \n",
       "3 2021-08-27 02:44:28 2021-08-27 02:44:28           NaN      SMSC       NaN   \n",
       "4 2021-08-27 07:37:50 2021-08-27 07:37:50           NaN      SMSC       NaN   \n",
       "5 2021-08-27 07:37:51 2021-08-27 07:37:51           NaN      SMSC       NaN   \n",
       "6 2021-08-27 11:29:12 2021-08-27 11:29:12           NaN      SMSC       NaN   \n",
       "7 2021-08-27 11:29:56 2021-08-27 11:29:56           NaN      SMSC       NaN   \n",
       "8 2021-08-27 11:56:23 2021-08-27 11:56:23          86.0       moc  Outgoing   \n",
       "9 2021-08-27 12:21:48 2021-08-27 12:21:48           NaN       moc  Outgoing   \n",
       "\n",
       "   Calling Number  Called Number         Completion Code  1st LTE Site ID  \\\n",
       "0     16504838989    14159996655  Completed Successfully          45352.0   \n",
       "1     16504838989    14159996655  Completed Successfully          45352.0   \n",
       "2     16504838989    14153331122    Abnormal Completion           45352.0   \n",
       "3     16504838989    14153331122  Completed Successfully              NaN   \n",
       "4     16504838989          84399  Completed Successfully              NaN   \n",
       "5     16504838989    14158887755  Completed Successfully              NaN   \n",
       "6     16504838989    14158887755  Completed Successfully              NaN   \n",
       "7     16504838989    14158887755  Completed Successfully              NaN   \n",
       "8     16504838989    14158887755  Completed Successfully          45352.0   \n",
       "9     16504838989    14158887755    Abnormal Completion           45352.0   \n",
       "\n",
       "   1st LTE Sector ID  1st LAC  1st Cell ID  1st Tower Azimuth  1st Tower LAT  \\\n",
       "0                7.0      NaN          NaN                NaN      37.777286   \n",
       "1                7.0      NaN          NaN                NaN      37.777286   \n",
       "2                7.0      NaN          NaN                NaN      37.777286   \n",
       "3                NaN      NaN          NaN                NaN            NaN   \n",
       "4                NaN      NaN          NaN                NaN            NaN   \n",
       "5                NaN      NaN          NaN                NaN            NaN   \n",
       "6                NaN      NaN          NaN                NaN            NaN   \n",
       "7                NaN      NaN          NaN                NaN            NaN   \n",
       "8                7.0      NaN          NaN                NaN      37.777286   \n",
       "9                1.0      NaN          NaN                NaN      37.756244   \n",
       "\n",
       "   1st Tower LONG 1st Tower Address 1st Tower City 1st Tower State  \\\n",
       "0     -122.456265    3067 Turk Blvd  San Francisco              CA   \n",
       "1     -122.456265    3067 Turk Blvd  San Francisco              CA   \n",
       "2     -122.456265    3067 Turk Blvd  San Francisco              CA   \n",
       "3             NaN               NaN            NaN             NaN   \n",
       "4             NaN               NaN            NaN             NaN   \n",
       "5             NaN               NaN            NaN             NaN   \n",
       "6             NaN               NaN            NaN             NaN   \n",
       "7             NaN               NaN            NaN             NaN   \n",
       "8     -122.456265    3067 Turk Blvd  San Francisco              CA   \n",
       "9     -122.417870       665 Capp St  San Francisco              CA   \n",
       "\n",
       "   1st Tower Zip  \n",
       "0        94118.0  \n",
       "1        94118.0  \n",
       "2        94118.0  \n",
       "3            NaN  \n",
       "4            NaN  \n",
       "5            NaN  \n",
       "6            NaN  \n",
       "7            NaN  \n",
       "8        94118.0  \n",
       "9        94110.0  "
      ]
     },
     "execution_count": 3,
     "metadata": {},
     "output_type": "execute_result"
    }
   ],
   "source": [
    "df1.head(10)"
   ]
  },
  {
   "cell_type": "markdown",
   "metadata": {},
   "source": [
    "Check the shape of the pandas dataframe before removing NaN values"
   ]
  },
  {
   "cell_type": "code",
   "execution_count": 4,
   "metadata": {},
   "outputs": [
    {
     "data": {
      "text/plain": [
       "(352, 19)"
      ]
     },
     "execution_count": 4,
     "metadata": {},
     "output_type": "execute_result"
    }
   ],
   "source": [
    "df1.shape"
   ]
  },
  {
   "cell_type": "markdown",
   "metadata": {},
   "source": [
    "Check the number of null values in each column."
   ]
  },
  {
   "cell_type": "code",
   "execution_count": 5,
   "metadata": {},
   "outputs": [
    {
     "data": {
      "text/plain": [
       "Date                   0\n",
       "Time                   0\n",
       "Duration (S)         137\n",
       "Call Type              0\n",
       "Direction             92\n",
       "Calling Number         0\n",
       "Called Number          0\n",
       "Completion Code        0\n",
       "1st LTE Site ID      113\n",
       "1st LTE Sector ID    113\n",
       "1st LAC              335\n",
       "1st Cell ID          335\n",
       "1st Tower Azimuth    352\n",
       "1st Tower LAT        125\n",
       "1st Tower LONG       125\n",
       "1st Tower Address    125\n",
       "1st Tower City       125\n",
       "1st Tower State      125\n",
       "1st Tower Zip        125\n",
       "dtype: int64"
      ]
     },
     "execution_count": 5,
     "metadata": {},
     "output_type": "execute_result"
    }
   ],
   "source": [
    "df1.isnull().sum(axis=0)"
   ]
  },
  {
   "cell_type": "markdown",
   "metadata": {},
   "source": [
    "Drop unwanted columns."
   ]
  },
  {
   "cell_type": "code",
   "execution_count": 6,
   "metadata": {},
   "outputs": [],
   "source": [
    "df1.drop(['Date', '1st Tower Azimuth', '1st Cell ID', '1st LAC'], inplace=True, axis=1, errors='ignore')"
   ]
  },
  {
   "cell_type": "markdown",
   "metadata": {},
   "source": [
    "Remove all rows having atleast one NaN ( null) value"
   ]
  },
  {
   "cell_type": "code",
   "execution_count": 7,
   "metadata": {},
   "outputs": [],
   "source": [
    "df1.dropna(inplace=True)"
   ]
  },
  {
   "cell_type": "code",
   "execution_count": 8,
   "metadata": {},
   "outputs": [
    {
     "data": {
      "text/plain": [
       "(177, 15)"
      ]
     },
     "execution_count": 8,
     "metadata": {},
     "output_type": "execute_result"
    }
   ],
   "source": [
    "df1.shape"
   ]
  },
  {
   "cell_type": "code",
   "execution_count": 9,
   "metadata": {},
   "outputs": [
    {
     "data": {
      "text/html": [
       "<div>\n",
       "<style scoped>\n",
       "    .dataframe tbody tr th:only-of-type {\n",
       "        vertical-align: middle;\n",
       "    }\n",
       "\n",
       "    .dataframe tbody tr th {\n",
       "        vertical-align: top;\n",
       "    }\n",
       "\n",
       "    .dataframe thead th {\n",
       "        text-align: right;\n",
       "    }\n",
       "</style>\n",
       "<table border=\"1\" class=\"dataframe\">\n",
       "  <thead>\n",
       "    <tr style=\"text-align: right;\">\n",
       "      <th></th>\n",
       "      <th>Time</th>\n",
       "      <th>Duration (S)</th>\n",
       "      <th>Call Type</th>\n",
       "      <th>Direction</th>\n",
       "      <th>Calling Number</th>\n",
       "      <th>Called Number</th>\n",
       "      <th>Completion Code</th>\n",
       "      <th>1st LTE Site ID</th>\n",
       "      <th>1st LTE Sector ID</th>\n",
       "      <th>1st Tower LAT</th>\n",
       "      <th>1st Tower LONG</th>\n",
       "      <th>1st Tower Address</th>\n",
       "      <th>1st Tower City</th>\n",
       "      <th>1st Tower State</th>\n",
       "      <th>1st Tower Zip</th>\n",
       "    </tr>\n",
       "  </thead>\n",
       "  <tbody>\n",
       "    <tr>\n",
       "      <th>0</th>\n",
       "      <td>2021-08-27 01:03:29</td>\n",
       "      <td>4.0</td>\n",
       "      <td>mtc</td>\n",
       "      <td>Incoming</td>\n",
       "      <td>16504838989</td>\n",
       "      <td>14159996655</td>\n",
       "      <td>Completed Successfully</td>\n",
       "      <td>45352.0</td>\n",
       "      <td>7.0</td>\n",
       "      <td>37.777286</td>\n",
       "      <td>-122.456265</td>\n",
       "      <td>3067 Turk Blvd</td>\n",
       "      <td>San Francisco</td>\n",
       "      <td>CA</td>\n",
       "      <td>94118.0</td>\n",
       "    </tr>\n",
       "    <tr>\n",
       "      <th>1</th>\n",
       "      <td>2021-08-27 01:04:02</td>\n",
       "      <td>4.0</td>\n",
       "      <td>moc</td>\n",
       "      <td>Outgoing</td>\n",
       "      <td>16504838989</td>\n",
       "      <td>14159996655</td>\n",
       "      <td>Completed Successfully</td>\n",
       "      <td>45352.0</td>\n",
       "      <td>7.0</td>\n",
       "      <td>37.777286</td>\n",
       "      <td>-122.456265</td>\n",
       "      <td>3067 Turk Blvd</td>\n",
       "      <td>San Francisco</td>\n",
       "      <td>CA</td>\n",
       "      <td>94118.0</td>\n",
       "    </tr>\n",
       "    <tr>\n",
       "      <th>8</th>\n",
       "      <td>2021-08-27 11:56:23</td>\n",
       "      <td>86.0</td>\n",
       "      <td>moc</td>\n",
       "      <td>Outgoing</td>\n",
       "      <td>16504838989</td>\n",
       "      <td>14158887755</td>\n",
       "      <td>Completed Successfully</td>\n",
       "      <td>45352.0</td>\n",
       "      <td>7.0</td>\n",
       "      <td>37.777286</td>\n",
       "      <td>-122.456265</td>\n",
       "      <td>3067 Turk Blvd</td>\n",
       "      <td>San Francisco</td>\n",
       "      <td>CA</td>\n",
       "      <td>94118.0</td>\n",
       "    </tr>\n",
       "    <tr>\n",
       "      <th>10</th>\n",
       "      <td>2021-08-27 12:27:53</td>\n",
       "      <td>622.0</td>\n",
       "      <td>mtc</td>\n",
       "      <td>Incoming</td>\n",
       "      <td>16504838989</td>\n",
       "      <td>14150001919</td>\n",
       "      <td>Completed Successfully</td>\n",
       "      <td>45352.0</td>\n",
       "      <td>1.0</td>\n",
       "      <td>37.751435</td>\n",
       "      <td>-122.416476</td>\n",
       "      <td>1358 S Van Ness Ave</td>\n",
       "      <td>San Francisco</td>\n",
       "      <td>CA</td>\n",
       "      <td>94110.0</td>\n",
       "    </tr>\n",
       "    <tr>\n",
       "      <th>12</th>\n",
       "      <td>2021-08-27 12:56:30</td>\n",
       "      <td>262.0</td>\n",
       "      <td>mtc</td>\n",
       "      <td>Incoming</td>\n",
       "      <td>16504838989</td>\n",
       "      <td>14151112255</td>\n",
       "      <td>Completed Successfully</td>\n",
       "      <td>139977.0</td>\n",
       "      <td>61.0</td>\n",
       "      <td>37.751435</td>\n",
       "      <td>-122.416476</td>\n",
       "      <td>1358 S Van Ness Ave</td>\n",
       "      <td>San Francisco</td>\n",
       "      <td>CA</td>\n",
       "      <td>94110.0</td>\n",
       "    </tr>\n",
       "    <tr>\n",
       "      <th>...</th>\n",
       "      <td>...</td>\n",
       "      <td>...</td>\n",
       "      <td>...</td>\n",
       "      <td>...</td>\n",
       "      <td>...</td>\n",
       "      <td>...</td>\n",
       "      <td>...</td>\n",
       "      <td>...</td>\n",
       "      <td>...</td>\n",
       "      <td>...</td>\n",
       "      <td>...</td>\n",
       "      <td>...</td>\n",
       "      <td>...</td>\n",
       "      <td>...</td>\n",
       "      <td>...</td>\n",
       "    </tr>\n",
       "    <tr>\n",
       "      <th>255</th>\n",
       "      <td>2021-08-28 18:08:26</td>\n",
       "      <td>77.0</td>\n",
       "      <td>mtc</td>\n",
       "      <td>Incoming</td>\n",
       "      <td>16504838989</td>\n",
       "      <td>14159879879</td>\n",
       "      <td>Completed Successfully</td>\n",
       "      <td>47204.0</td>\n",
       "      <td>4.0</td>\n",
       "      <td>37.751435</td>\n",
       "      <td>-122.416476</td>\n",
       "      <td>1358 S Van Ness Ave</td>\n",
       "      <td>San Francisco</td>\n",
       "      <td>CA</td>\n",
       "      <td>94110.0</td>\n",
       "    </tr>\n",
       "    <tr>\n",
       "      <th>261</th>\n",
       "      <td>2021-08-28 19:04:20</td>\n",
       "      <td>60.0</td>\n",
       "      <td>mSTerminatingSMSinMSC</td>\n",
       "      <td>Incoming</td>\n",
       "      <td>16504838989</td>\n",
       "      <td>128</td>\n",
       "      <td>Completed Successfully</td>\n",
       "      <td>47204.0</td>\n",
       "      <td>1.0</td>\n",
       "      <td>37.751435</td>\n",
       "      <td>-122.416476</td>\n",
       "      <td>1358 S Van Ness Ave</td>\n",
       "      <td>San Francisco</td>\n",
       "      <td>CA</td>\n",
       "      <td>94110.0</td>\n",
       "    </tr>\n",
       "    <tr>\n",
       "      <th>262</th>\n",
       "      <td>2021-08-28 19:04:20</td>\n",
       "      <td>60.0</td>\n",
       "      <td>mSOriginatingSMSinMSC</td>\n",
       "      <td>Outgoing</td>\n",
       "      <td>16504838989</td>\n",
       "      <td>14158887755</td>\n",
       "      <td>Completed Successfully</td>\n",
       "      <td>47204.0</td>\n",
       "      <td>1.0</td>\n",
       "      <td>37.751435</td>\n",
       "      <td>-122.416476</td>\n",
       "      <td>1358 S Van Ness Ave</td>\n",
       "      <td>San Francisco</td>\n",
       "      <td>CA</td>\n",
       "      <td>94110.0</td>\n",
       "    </tr>\n",
       "    <tr>\n",
       "      <th>263</th>\n",
       "      <td>2021-08-28 19:04:43</td>\n",
       "      <td>206.0</td>\n",
       "      <td>mtc</td>\n",
       "      <td>Incoming</td>\n",
       "      <td>16504838989</td>\n",
       "      <td>14151110505</td>\n",
       "      <td>Completed Successfully</td>\n",
       "      <td>47204.0</td>\n",
       "      <td>1.0</td>\n",
       "      <td>37.751435</td>\n",
       "      <td>-122.416476</td>\n",
       "      <td>1358 S Van Ness Ave</td>\n",
       "      <td>San Francisco</td>\n",
       "      <td>CA</td>\n",
       "      <td>94110.0</td>\n",
       "    </tr>\n",
       "    <tr>\n",
       "      <th>265</th>\n",
       "      <td>2021-08-28 19:33:37</td>\n",
       "      <td>144.0</td>\n",
       "      <td>moc</td>\n",
       "      <td>Outgoing</td>\n",
       "      <td>16504838989</td>\n",
       "      <td>14158887755</td>\n",
       "      <td>Completed Successfully</td>\n",
       "      <td>47204.0</td>\n",
       "      <td>4.0</td>\n",
       "      <td>37.751435</td>\n",
       "      <td>-122.416476</td>\n",
       "      <td>1358 S Van Ness Ave</td>\n",
       "      <td>San Francisco</td>\n",
       "      <td>CA</td>\n",
       "      <td>94110.0</td>\n",
       "    </tr>\n",
       "  </tbody>\n",
       "</table>\n",
       "<p>150 rows × 15 columns</p>\n",
       "</div>"
      ],
      "text/plain": [
       "                   Time  Duration (S)              Call Type Direction  \\\n",
       "0   2021-08-27 01:03:29           4.0                    mtc  Incoming   \n",
       "1   2021-08-27 01:04:02           4.0                    moc  Outgoing   \n",
       "8   2021-08-27 11:56:23          86.0                    moc  Outgoing   \n",
       "10  2021-08-27 12:27:53         622.0                    mtc  Incoming   \n",
       "12  2021-08-27 12:56:30         262.0                    mtc  Incoming   \n",
       "..                  ...           ...                    ...       ...   \n",
       "255 2021-08-28 18:08:26          77.0                    mtc  Incoming   \n",
       "261 2021-08-28 19:04:20          60.0  mSTerminatingSMSinMSC  Incoming   \n",
       "262 2021-08-28 19:04:20          60.0  mSOriginatingSMSinMSC  Outgoing   \n",
       "263 2021-08-28 19:04:43         206.0                    mtc  Incoming   \n",
       "265 2021-08-28 19:33:37         144.0                    moc  Outgoing   \n",
       "\n",
       "     Calling Number  Called Number         Completion Code  1st LTE Site ID  \\\n",
       "0       16504838989    14159996655  Completed Successfully          45352.0   \n",
       "1       16504838989    14159996655  Completed Successfully          45352.0   \n",
       "8       16504838989    14158887755  Completed Successfully          45352.0   \n",
       "10      16504838989    14150001919  Completed Successfully          45352.0   \n",
       "12      16504838989    14151112255  Completed Successfully         139977.0   \n",
       "..              ...            ...                     ...              ...   \n",
       "255     16504838989    14159879879  Completed Successfully          47204.0   \n",
       "261     16504838989            128  Completed Successfully          47204.0   \n",
       "262     16504838989    14158887755  Completed Successfully          47204.0   \n",
       "263     16504838989    14151110505  Completed Successfully          47204.0   \n",
       "265     16504838989    14158887755  Completed Successfully          47204.0   \n",
       "\n",
       "     1st LTE Sector ID  1st Tower LAT  1st Tower LONG    1st Tower Address  \\\n",
       "0                  7.0      37.777286     -122.456265       3067 Turk Blvd   \n",
       "1                  7.0      37.777286     -122.456265       3067 Turk Blvd   \n",
       "8                  7.0      37.777286     -122.456265       3067 Turk Blvd   \n",
       "10                 1.0      37.751435     -122.416476  1358 S Van Ness Ave   \n",
       "12                61.0      37.751435     -122.416476  1358 S Van Ness Ave   \n",
       "..                 ...            ...             ...                  ...   \n",
       "255                4.0      37.751435     -122.416476  1358 S Van Ness Ave   \n",
       "261                1.0      37.751435     -122.416476  1358 S Van Ness Ave   \n",
       "262                1.0      37.751435     -122.416476  1358 S Van Ness Ave   \n",
       "263                1.0      37.751435     -122.416476  1358 S Van Ness Ave   \n",
       "265                4.0      37.751435     -122.416476  1358 S Van Ness Ave   \n",
       "\n",
       "    1st Tower City 1st Tower State  1st Tower Zip  \n",
       "0    San Francisco              CA        94118.0  \n",
       "1    San Francisco              CA        94118.0  \n",
       "8    San Francisco              CA        94118.0  \n",
       "10   San Francisco              CA        94110.0  \n",
       "12   San Francisco              CA        94110.0  \n",
       "..             ...             ...            ...  \n",
       "255  San Francisco              CA        94110.0  \n",
       "261  San Francisco              CA        94110.0  \n",
       "262  San Francisco              CA        94110.0  \n",
       "263  San Francisco              CA        94110.0  \n",
       "265  San Francisco              CA        94110.0  \n",
       "\n",
       "[150 rows x 15 columns]"
      ]
     },
     "execution_count": 9,
     "metadata": {},
     "output_type": "execute_result"
    }
   ],
   "source": [
    "df1.head(150)"
   ]
  },
  {
   "cell_type": "code",
   "execution_count": 10,
   "metadata": {},
   "outputs": [
    {
     "data": {
      "text/plain": [
       "Index(['Time', 'Duration (S)', 'Call Type', 'Direction', 'Calling Number',\n",
       "       'Called Number', 'Completion Code', '1st LTE Site ID',\n",
       "       '1st LTE Sector ID', '1st Tower LAT', '1st Tower LONG',\n",
       "       '1st Tower Address', '1st Tower City', '1st Tower State',\n",
       "       '1st Tower Zip'],\n",
       "      dtype='object')"
      ]
     },
     "execution_count": 10,
     "metadata": {},
     "output_type": "execute_result"
    }
   ],
   "source": [
    "df1.columns"
   ]
  },
  {
   "cell_type": "markdown",
   "metadata": {},
   "source": [
    "Get the columns we are interested in."
   ]
  },
  {
   "cell_type": "code",
   "execution_count": 11,
   "metadata": {},
   "outputs": [],
   "source": [
    "df2 = df1[['Time', 'Calling Number','1st LTE Site ID', '1st Tower LONG', '1st Tower LAT']]"
   ]
  },
  {
   "cell_type": "markdown",
   "metadata": {},
   "source": [
    "Sort Value based on time."
   ]
  },
  {
   "cell_type": "code",
   "execution_count": 12,
   "metadata": {},
   "outputs": [],
   "source": [
    "df2 = df2.sort_values(by=\"Time\")"
   ]
  },
  {
   "cell_type": "code",
   "execution_count": 13,
   "metadata": {},
   "outputs": [
    {
     "data": {
      "text/html": [
       "<div>\n",
       "<style scoped>\n",
       "    .dataframe tbody tr th:only-of-type {\n",
       "        vertical-align: middle;\n",
       "    }\n",
       "\n",
       "    .dataframe tbody tr th {\n",
       "        vertical-align: top;\n",
       "    }\n",
       "\n",
       "    .dataframe thead th {\n",
       "        text-align: right;\n",
       "    }\n",
       "</style>\n",
       "<table border=\"1\" class=\"dataframe\">\n",
       "  <thead>\n",
       "    <tr style=\"text-align: right;\">\n",
       "      <th></th>\n",
       "      <th>Time</th>\n",
       "      <th>Calling Number</th>\n",
       "      <th>1st LTE Site ID</th>\n",
       "      <th>1st Tower LONG</th>\n",
       "      <th>1st Tower LAT</th>\n",
       "    </tr>\n",
       "  </thead>\n",
       "  <tbody>\n",
       "    <tr>\n",
       "      <th>0</th>\n",
       "      <td>2021-08-27 01:03:29</td>\n",
       "      <td>16504838989</td>\n",
       "      <td>45352.0</td>\n",
       "      <td>-122.456265</td>\n",
       "      <td>37.777286</td>\n",
       "    </tr>\n",
       "    <tr>\n",
       "      <th>1</th>\n",
       "      <td>2021-08-27 01:04:02</td>\n",
       "      <td>16504838989</td>\n",
       "      <td>45352.0</td>\n",
       "      <td>-122.456265</td>\n",
       "      <td>37.777286</td>\n",
       "    </tr>\n",
       "    <tr>\n",
       "      <th>8</th>\n",
       "      <td>2021-08-27 11:56:23</td>\n",
       "      <td>16504838989</td>\n",
       "      <td>45352.0</td>\n",
       "      <td>-122.456265</td>\n",
       "      <td>37.777286</td>\n",
       "    </tr>\n",
       "    <tr>\n",
       "      <th>10</th>\n",
       "      <td>2021-08-27 12:27:53</td>\n",
       "      <td>16504838989</td>\n",
       "      <td>45352.0</td>\n",
       "      <td>-122.416476</td>\n",
       "      <td>37.751435</td>\n",
       "    </tr>\n",
       "    <tr>\n",
       "      <th>12</th>\n",
       "      <td>2021-08-27 12:56:30</td>\n",
       "      <td>16504838989</td>\n",
       "      <td>139977.0</td>\n",
       "      <td>-122.416476</td>\n",
       "      <td>37.751435</td>\n",
       "    </tr>\n",
       "    <tr>\n",
       "      <th>18</th>\n",
       "      <td>2021-08-27 14:29:21</td>\n",
       "      <td>16504838989</td>\n",
       "      <td>47392.0</td>\n",
       "      <td>-122.416476</td>\n",
       "      <td>37.751435</td>\n",
       "    </tr>\n",
       "    <tr>\n",
       "      <th>19</th>\n",
       "      <td>2021-08-27 15:23:18</td>\n",
       "      <td>16504838989</td>\n",
       "      <td>45352.0</td>\n",
       "      <td>-122.416476</td>\n",
       "      <td>37.751435</td>\n",
       "    </tr>\n",
       "    <tr>\n",
       "      <th>20</th>\n",
       "      <td>2021-08-27 15:48:35</td>\n",
       "      <td>16504838989</td>\n",
       "      <td>45352.0</td>\n",
       "      <td>-122.416476</td>\n",
       "      <td>37.751435</td>\n",
       "    </tr>\n",
       "    <tr>\n",
       "      <th>21</th>\n",
       "      <td>2021-08-27 17:39:17</td>\n",
       "      <td>16504838989</td>\n",
       "      <td>47392.0</td>\n",
       "      <td>-122.416476</td>\n",
       "      <td>37.751435</td>\n",
       "    </tr>\n",
       "    <tr>\n",
       "      <th>23</th>\n",
       "      <td>2021-08-27 18:43:53</td>\n",
       "      <td>16504838989</td>\n",
       "      <td>47392.0</td>\n",
       "      <td>-122.443933</td>\n",
       "      <td>37.752711</td>\n",
       "    </tr>\n",
       "  </tbody>\n",
       "</table>\n",
       "</div>"
      ],
      "text/plain": [
       "                  Time  Calling Number  1st LTE Site ID  1st Tower LONG  \\\n",
       "0  2021-08-27 01:03:29     16504838989          45352.0     -122.456265   \n",
       "1  2021-08-27 01:04:02     16504838989          45352.0     -122.456265   \n",
       "8  2021-08-27 11:56:23     16504838989          45352.0     -122.456265   \n",
       "10 2021-08-27 12:27:53     16504838989          45352.0     -122.416476   \n",
       "12 2021-08-27 12:56:30     16504838989         139977.0     -122.416476   \n",
       "18 2021-08-27 14:29:21     16504838989          47392.0     -122.416476   \n",
       "19 2021-08-27 15:23:18     16504838989          45352.0     -122.416476   \n",
       "20 2021-08-27 15:48:35     16504838989          45352.0     -122.416476   \n",
       "21 2021-08-27 17:39:17     16504838989          47392.0     -122.416476   \n",
       "23 2021-08-27 18:43:53     16504838989          47392.0     -122.443933   \n",
       "\n",
       "    1st Tower LAT  \n",
       "0       37.777286  \n",
       "1       37.777286  \n",
       "8       37.777286  \n",
       "10      37.751435  \n",
       "12      37.751435  \n",
       "18      37.751435  \n",
       "19      37.751435  \n",
       "20      37.751435  \n",
       "21      37.751435  \n",
       "23      37.752711  "
      ]
     },
     "execution_count": 13,
     "metadata": {},
     "output_type": "execute_result"
    }
   ],
   "source": [
    "df2.head(10)"
   ]
  },
  {
   "cell_type": "markdown",
   "metadata": {},
   "source": [
    "Install geopandas"
   ]
  },
  {
   "cell_type": "code",
   "execution_count": 14,
   "metadata": {},
   "outputs": [
    {
     "name": "stdout",
     "output_type": "stream",
     "text": [
      "Requirement already satisfied: geopandas in /usr/local/lib/python3.8/dist-packages (0.10.2)\n",
      "Requirement already satisfied: fiona>=1.8 in /usr/local/lib/python3.8/dist-packages (from geopandas) (1.8.21)\n",
      "Requirement already satisfied: pyproj>=2.2.0 in /usr/local/lib/python3.8/dist-packages (from geopandas) (3.3.0)\n",
      "Requirement already satisfied: shapely>=1.6 in /usr/local/lib/python3.8/dist-packages (from geopandas) (1.8.1.post1)\n",
      "Requirement already satisfied: pandas>=0.25.0 in /usr/local/lib/python3.8/dist-packages (from geopandas) (1.4.1)\n",
      "Requirement already satisfied: cligj>=0.5 in /usr/local/lib/python3.8/dist-packages (from fiona>=1.8->geopandas) (0.7.2)\n",
      "Requirement already satisfied: setuptools in /usr/lib/python3/dist-packages (from fiona>=1.8->geopandas) (45.2.0)\n",
      "Requirement already satisfied: attrs>=17 in /usr/lib/python3/dist-packages (from fiona>=1.8->geopandas) (19.3.0)\n",
      "Requirement already satisfied: six>=1.7 in /usr/lib/python3/dist-packages (from fiona>=1.8->geopandas) (1.14.0)\n",
      "Requirement already satisfied: click-plugins>=1.0 in /usr/local/lib/python3.8/dist-packages (from fiona>=1.8->geopandas) (1.1.1)\n",
      "Requirement already satisfied: certifi in /usr/lib/python3/dist-packages (from fiona>=1.8->geopandas) (2019.11.28)\n",
      "Requirement already satisfied: munch in /usr/local/lib/python3.8/dist-packages (from fiona>=1.8->geopandas) (2.5.0)\n",
      "Requirement already satisfied: click>=4.0 in /usr/local/lib/python3.8/dist-packages (from fiona>=1.8->geopandas) (8.0.4)\n",
      "Requirement already satisfied: pytz>=2020.1 in ./.local/lib/python3.8/site-packages (from pandas>=0.25.0->geopandas) (2021.3)\n",
      "Requirement already satisfied: python-dateutil>=2.8.1 in ./.local/lib/python3.8/site-packages (from pandas>=0.25.0->geopandas) (2.8.2)\n",
      "Requirement already satisfied: numpy>=1.18.5; platform_machine != \"aarch64\" and platform_machine != \"arm64\" and python_version < \"3.10\" in /usr/local/lib/python3.8/dist-packages (from pandas>=0.25.0->geopandas) (1.22.3)\n"
     ]
    }
   ],
   "source": [
    "!pip install geopandas"
   ]
  },
  {
   "cell_type": "code",
   "execution_count": 15,
   "metadata": {},
   "outputs": [],
   "source": [
    "import geopandas as gpd"
   ]
  },
  {
   "cell_type": "code",
   "execution_count": 16,
   "metadata": {},
   "outputs": [],
   "source": [
    "from shapely.geometry import Point"
   ]
  },
  {
   "cell_type": "code",
   "execution_count": 17,
   "metadata": {},
   "outputs": [],
   "source": [
    "%matplotlib inline"
   ]
  },
  {
   "cell_type": "markdown",
   "metadata": {},
   "source": [
    "Get San Francisco shape file from government website."
   ]
  },
  {
   "cell_type": "code",
   "execution_count": 18,
   "metadata": {},
   "outputs": [],
   "source": [
    "street_map = gpd.read_file('mtr_38_nad83.shp')"
   ]
  },
  {
   "cell_type": "code",
   "execution_count": 19,
   "metadata": {},
   "outputs": [
    {
     "data": {
      "text/plain": [
       "<Derived Projected CRS: EPSG:3310>\n",
       "Name: NAD83 / California Albers\n",
       "Axis Info [cartesian]:\n",
       "- X[east]: Easting (metre)\n",
       "- Y[north]: Northing (metre)\n",
       "Area of Use:\n",
       "- name: United States (USA) - California.\n",
       "- bounds: (-124.45, 32.53, -114.12, 42.01)\n",
       "Coordinate Operation:\n",
       "- name: California Albers\n",
       "- method: Albers Equal Area\n",
       "Datum: North American Datum 1983\n",
       "- Ellipsoid: GRS 1980\n",
       "- Prime Meridian: Greenwich"
      ]
     },
     "execution_count": 19,
     "metadata": {},
     "output_type": "execute_result"
    }
   ],
   "source": [
    "street_map.crs"
   ]
  },
  {
   "cell_type": "markdown",
   "metadata": {},
   "source": [
    "Plot the graph."
   ]
  },
  {
   "cell_type": "code",
   "execution_count": 20,
   "metadata": {},
   "outputs": [],
   "source": [
    "import matplotlib.pyplot as plt"
   ]
  },
  {
   "cell_type": "code",
   "execution_count": 21,
   "metadata": {},
   "outputs": [
    {
     "data": {
      "text/plain": [
       "<AxesSubplot:>"
      ]
     },
     "execution_count": 21,
     "metadata": {},
     "output_type": "execute_result"
    },
    {
     "data": {
      "image/png": "[encoded data removed]",
      "text/plain": [
       "<Figure size 720x720 with 1 Axes>"
      ]
     },
     "metadata": {
      "needs_background": "light"
     },
     "output_type": "display_data"
    }
   ],
   "source": [
    "fig, ax = plt.subplots(figsize = (10,10))\n",
    "street_map.plot(ax = ax)"
   ]
  },
  {
   "cell_type": "code",
   "execution_count": 22,
   "metadata": {},
   "outputs": [],
   "source": [
    "geometry = [Point(xy) for xy in zip( df2['1st Tower LONG'], df2['1st Tower LAT'])]"
   ]
  },
  {
   "cell_type": "code",
   "execution_count": 23,
   "metadata": {},
   "outputs": [],
   "source": [
    "crs= {'init': 'epsg:3310'}"
   ]
  },
  {
   "cell_type": "code",
   "execution_count": 24,
   "metadata": {},
   "outputs": [],
   "source": [
    "geo_df = gpd.GeoDataFrame(df2, geometry = geometry)"
   ]
  },
  {
   "cell_type": "code",
   "execution_count": 25,
   "metadata": {},
   "outputs": [
    {
     "data": {
      "text/html": [
       "<div>\n",
       "<style scoped>\n",
       "    .dataframe tbody tr th:only-of-type {\n",
       "        vertical-align: middle;\n",
       "    }\n",
       "\n",
       "    .dataframe tbody tr th {\n",
       "        vertical-align: top;\n",
       "    }\n",
       "\n",
       "    .dataframe thead th {\n",
       "        text-align: right;\n",
       "    }\n",
       "</style>\n",
       "<table border=\"1\" class=\"dataframe\">\n",
       "  <thead>\n",
       "    <tr style=\"text-align: right;\">\n",
       "      <th></th>\n",
       "      <th>Time</th>\n",
       "      <th>Calling Number</th>\n",
       "      <th>1st LTE Site ID</th>\n",
       "      <th>1st Tower LONG</th>\n",
       "      <th>1st Tower LAT</th>\n",
       "      <th>geometry</th>\n",
       "    </tr>\n",
       "  </thead>\n",
       "  <tbody>\n",
       "    <tr>\n",
       "      <th>0</th>\n",
       "      <td>2021-08-27 01:03:29</td>\n",
       "      <td>16504838989</td>\n",
       "      <td>45352.0</td>\n",
       "      <td>-122.456265</td>\n",
       "      <td>37.777286</td>\n",
       "      <td>POINT (-122.45626 37.77729)</td>\n",
       "    </tr>\n",
       "    <tr>\n",
       "      <th>1</th>\n",
       "      <td>2021-08-27 01:04:02</td>\n",
       "      <td>16504838989</td>\n",
       "      <td>45352.0</td>\n",
       "      <td>-122.456265</td>\n",
       "      <td>37.777286</td>\n",
       "      <td>POINT (-122.45626 37.77729)</td>\n",
       "    </tr>\n",
       "    <tr>\n",
       "      <th>8</th>\n",
       "      <td>2021-08-27 11:56:23</td>\n",
       "      <td>16504838989</td>\n",
       "      <td>45352.0</td>\n",
       "      <td>-122.456265</td>\n",
       "      <td>37.777286</td>\n",
       "      <td>POINT (-122.45626 37.77729)</td>\n",
       "    </tr>\n",
       "    <tr>\n",
       "      <th>10</th>\n",
       "      <td>2021-08-27 12:27:53</td>\n",
       "      <td>16504838989</td>\n",
       "      <td>45352.0</td>\n",
       "      <td>-122.416476</td>\n",
       "      <td>37.751435</td>\n",
       "      <td>POINT (-122.41648 37.75144)</td>\n",
       "    </tr>\n",
       "    <tr>\n",
       "      <th>12</th>\n",
       "      <td>2021-08-27 12:56:30</td>\n",
       "      <td>16504838989</td>\n",
       "      <td>139977.0</td>\n",
       "      <td>-122.416476</td>\n",
       "      <td>37.751435</td>\n",
       "      <td>POINT (-122.41648 37.75144)</td>\n",
       "    </tr>\n",
       "  </tbody>\n",
       "</table>\n",
       "</div>"
      ],
      "text/plain": [
       "                  Time  Calling Number  1st LTE Site ID  1st Tower LONG  \\\n",
       "0  2021-08-27 01:03:29     16504838989          45352.0     -122.456265   \n",
       "1  2021-08-27 01:04:02     16504838989          45352.0     -122.456265   \n",
       "8  2021-08-27 11:56:23     16504838989          45352.0     -122.456265   \n",
       "10 2021-08-27 12:27:53     16504838989          45352.0     -122.416476   \n",
       "12 2021-08-27 12:56:30     16504838989         139977.0     -122.416476   \n",
       "\n",
       "    1st Tower LAT                     geometry  \n",
       "0       37.777286  POINT (-122.45626 37.77729)  \n",
       "1       37.777286  POINT (-122.45626 37.77729)  \n",
       "8       37.777286  POINT (-122.45626 37.77729)  \n",
       "10      37.751435  POINT (-122.41648 37.75144)  \n",
       "12      37.751435  POINT (-122.41648 37.75144)  "
      ]
     },
     "execution_count": 25,
     "metadata": {},
     "output_type": "execute_result"
    }
   ],
   "source": [
    "geo_df.head()"
   ]
  },
  {
   "cell_type": "code",
   "execution_count": 31,
   "metadata": {},
   "outputs": [
    {
     "name": "stderr",
     "output_type": "stream",
     "text": [
      "/usr/local/lib/python3.8/dist-packages/geopandas/plotting.py:644: UserWarning: Only specify one of 'column' or 'color'. Using 'color'.\n",
      "  warnings.warn(\n"
     ]
    },
    {
     "data": {
      "text/plain": [
       "<AxesSubplot:>"
      ]
     },
     "execution_count": 31,
     "metadata": {},
     "output_type": "execute_result"
    },
    {
     "data": {
      "image/png": "[encoded data removed]",
      "text/plain": [
       "<Figure size 432x288 with 1 Axes>"
      ]
     },
     "metadata": {
      "needs_background": "light"
     },
     "output_type": "display_data"
    }
   ],
   "source": [
    "street_map.plot(ax, alpha = 1.0, color=\"grey\")"
   ]
  },
  {
   "cell_type": "code",
   "execution_count": 32,
   "metadata": {},
   "outputs": [
    {
     "data": {
      "text/plain": [
       "<AxesSubplot:>"
      ]
     },
     "execution_count": 32,
     "metadata": {},
     "output_type": "execute_result"
    },
    {
     "data": {
      "text/plain": [
       "<Figure size 432x288 with 0 Axes>"
      ]
     },
     "metadata": {},
     "output_type": "display_data"
    }
   ],
   "source": [
    "geo_df.plot(column='1st LTE Site ID',ax=ax,alpha=1.0, legend=True,markersize=10)"
   ]
  },
  {
   "cell_type": "code",
   "execution_count": 28,
   "metadata": {},
   "outputs": [
    {
     "name": "stderr",
     "output_type": "stream",
     "text": [
      "No artists with labels found to put in legend.  Note that artists whose label start with an underscore are ignored when legend() is called with no argument.\n"
     ]
    },
    {
     "data": {
      "text/plain": [
       "<matplotlib.legend.Legend at 0x7efce4ebc1c0>"
      ]
     },
     "execution_count": 28,
     "metadata": {},
     "output_type": "execute_result"
    },
    {
     "data": {
      "image/png": "[encoded data removed]",
      "text/plain": [
       "<Figure size 432x288 with 1 Axes>"
      ]
     },
     "metadata": {
      "needs_background": "light"
     },
     "output_type": "display_data"
    }
   ],
   "source": [
    "plt.legend(prop={'size': 15})"
   ]
  }
 ],
 "metadata": {
  "kernelspec": {
   "display_name": "Python 3 (ipykernel)",
   "language": "python",
   "name": "python3"
  },
  "language_info": {
   "codemirror_mode": {
    "name": "ipython",
    "version": 3
   },
   "file_extension": ".py",
   "mimetype": "text/x-python",
   "name": "python",
   "nbconvert_exporter": "python",
   "pygments_lexer": "ipython3",
   "version": "3.8.10"
  }
 },
 "nbformat": 4,
 "nbformat_minor": 4
}
